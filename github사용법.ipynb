{
 "cells": [
  {
   "cell_type": "markdown",
   "metadata": {},
   "source": [
    "## 학습용 파일 다운로드\n",
    "https://github.com/StillWork/class\n",
    "\n",
    "### 터미널에서\n",
    "git clone https://github.com/StillWork/class"
   ]
  },
  {
   "cell_type": "markdown",
   "metadata": {},
   "source": [
    "## 깃허브(github)란\n",
    "버전관리 시스템이다.\n",
    "* 저장소(repository)는 하나의 프로젝트를 관리하는 공간이다.\n",
    "\n",
    "```\n",
    "git init\n",
    "git status\n",
    "git add file\n",
    "git commit\n",
    "git remote add origin \"url\"\n",
    "git push -u origin master\n",
    "-----------\n",
    "git add -A\n",
    "git commit -m \"message\"\n",
    "git push\n",
    "```"
   ]
  },
  {
   "cell_type": "code",
   "execution_count": null,
   "metadata": {
    "collapsed": true
   },
   "outputs": [],
   "source": []
  }
 ],
 "metadata": {
  "kernelspec": {
   "display_name": "Python 3",
   "language": "python",
   "name": "python3"
  },
  "language_info": {
   "codemirror_mode": {
    "name": "ipython",
    "version": 3
   },
   "file_extension": ".py",
   "mimetype": "text/x-python",
   "name": "python",
   "nbconvert_exporter": "python",
   "pygments_lexer": "ipython3",
   "version": "3.6.0"
  }
 },
 "nbformat": 4,
 "nbformat_minor": 2
}
