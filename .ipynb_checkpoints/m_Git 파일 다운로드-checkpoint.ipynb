{
 "cells": [
  {
   "cell_type": "markdown",
   "metadata": {},
   "source": [
    "# GitHub\n",
    "\n",
    "### 기본 정보\n",
    " + 소스버전관리 프로그램\n",
    " + 소셜 코딩을 모토로 다른 사람들과의 협업 지원\n",
    " + Twitter, Facebook, Yahoo 등 많은 기업에서 활용 중\n",
    " + 공개/비공개 저장소로 구분\n",
    "\n",
    "### 특징\n",
    " + 코딩 시 변경내용을 개발자 로컬과 Github 저장소에 동시 적용\n",
    " + 빠르고 효율적인 Merge 지원\n",
    " + 다양한 OS에서 활용가능\n",
    " + 다양한 프로젝트 저장\n",
    " + 속도 중심의 분산형 버전관리 시스템으로 대형 프로젝트 관리 용이\n"
   ]
  },
  {
   "cell_type": "markdown",
   "metadata": {},
   "source": [
    "## Git 파일 다운로드\n",
    "\n",
    "### Git Bash 다운로드\n",
    "* <b> 다운로드 경로 : https://git-scm.com/ </b>\n",
    "* <b> Downloads 메뉴 -> 운영체제 선택 -> 자동 다운로드 진행 </b>"
   ]
  },
  {
   "cell_type": "markdown",
   "metadata": {},
   "source": [
    "![\"git bash downloads\"](./image/git_bash_download.png)"
   ]
  },
  {
   "cell_type": "markdown",
   "metadata": {},
   "source": [
    "### Git Bash 설치\n",
    "+ <b> 설치파일 실행 -> 우측 하단 Next 버튼 선택 -> 기타 설정 변경없이 설치 </b>\n",
    "![\"git install\"](./image/git_install.png)"
   ]
  },
  {
   "cell_type": "markdown",
   "metadata": {},
   "source": [
    "### Git Bash 실행\n",
    "+ <b> Git Bash를 실행하고 싶은 폴더에서 마우스 우측 클릭 </b>\n",
    "    + 작업 편의를 위해 바탕화면에 작업폴더 생성 추천\n",
    "    + Git Bash에서 경로 변경 가능 (cd 경로명)\n",
    "<br><br>\n",
    "+ <b> 마우스 우측 메뉴에서 Git Bash Here 선택 </b>\n",
    "![\"git install\"](./image/git_execute.png)"
   ]
  },
  {
   "cell_type": "markdown",
   "metadata": {
    "collapsed": true
   },
   "source": [
    "<b> 경로 변경 방법 </b>\n",
    "+ 상위 디렉토리로 이동 : cd .. \n",
    "+ 특정 디렉토리로 이동 : cd 경로명\n",
    "![\"git location\"](./image/git_location.png)"
   ]
  },
  {
   "cell_type": "markdown",
   "metadata": {},
   "source": [
    "### Git hub 저장소의 파일 다운로드\n",
    "#### 전문과정 전용 저장소 : https://github.com/StillWork/class \n",
    "+ 아래는 교육 전 화면으로 실제 교육 시에 자료 목록과는 차이가 있음\n",
    "<br><br>\n",
    "![\"git reposit\"](./image/git_reposit.png)\n",
    "<br><br>\n",
    "+ <b> Git Bash 다운로드 명령어 : git clone https://github.com/StillWork/class.git </b>\n",
    "    + StillWork : 저장소 생성자 닉네임\n",
    "    + class : 저장소 명\n",
    "    + 다른 깃허브 저장소 또한 위와 동일한 URL 형식을 가짐\n",
    "    <br><br>\n",
    "+ 현재 폴더에 해당 저장소 폴더 생성 및 파일 다운로드가 자동으로 진행\n",
    "+ 아래 화면은 바탕화면에 KDN 폴더에서 다운로드를 진행 \n",
    "<br><br>\n",
    "![\"git down\"](./image/git_down.png)"
   ]
  },
  {
   "cell_type": "markdown",
   "metadata": {},
   "source": [
    "## Jupyter Notebook 실행\n",
    "### cmd 창을 통해 실행\n",
    "+ <b>윈도우키 + R (실행창) -> cmd 입력\n",
    "+ cmd 화면에서 jupyter notebook 입력</b>\n",
    "+ cmd 창의 현재 디렉토리가 jupyter notebook의 홈 디렉토리가 됨\n",
    "    + 일반적으로 c:\\Users\\사용자명\n",
    "<br><br>\n",
    "![\"cmd_jupyter_exe\"](./image/cmd_jupyter_exe.png)\n",
    "<br><br>\n",
    "+ Jupyter notebook 실행 초기 화면 (홈 디렉토리)\n",
    "\n",
    "![\"jupyter_loc\"](./image/jupyter_loc.png)"
   ]
  },
  {
   "cell_type": "markdown",
   "metadata": {
    "collapsed": true
   },
   "source": [
    "### Jupyter notebook 경로 이동\n",
    "+ 교육자료를 다운받은 바탕화면으로 이동\n",
    "+ 홈 디렉토리의 Desktop -> KDN -> class\n",
    "+ 이동 후 교육자료를 선택하여 수업 진행\n",
    "<br><br>\n",
    "![\"class_loc\"](./image/class_loc.png)"
   ]
  }
 ],
 "metadata": {
  "anaconda-cloud": {},
  "kernelspec": {
   "display_name": "Python 3",
   "language": "python",
   "name": "python3"
  },
  "language_info": {
   "codemirror_mode": {
    "name": "ipython",
    "version": 3
   },
   "file_extension": ".py",
   "mimetype": "text/x-python",
   "name": "python",
   "nbconvert_exporter": "python",
   "pygments_lexer": "ipython3",
   "version": "3.6.1"
  }
 },
 "nbformat": 4,
 "nbformat_minor": 1
}
