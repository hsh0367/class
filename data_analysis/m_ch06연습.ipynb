{
 "cells": [
  {
   "cell_type": "code",
   "execution_count": 1,
   "metadata": {
    "collapsed": true
   },
   "outputs": [],
   "source": [
    "from pandas import DataFrame, Series #pandas로 부터 DateFrame, Series 라이브러리 불러오기\n",
    "import pandas as pd #pandas는 pd라는 이름으로 셀에서 사용\n",
    "import json"
   ]
  },
  {
   "cell_type": "markdown",
   "metadata": {},
   "source": [
    "### 예제 1 \n",
    "mydata.csv로부터 데이터를 읽어 frame 변수에 저장 및 출력하시오.<br>\n",
    "(단, 1, 5, 9 값은 NaN 값으로 표시되도록 하시오.)"
   ]
  },
  {
   "cell_type": "code",
   "execution_count": null,
   "metadata": {
    "collapsed": false
   },
   "outputs": [],
   "source": []
  },
  {
   "cell_type": "markdown",
   "metadata": {},
   "source": [
    "### 예제 2 \n",
    "예제 1에서 읽어온 frame 데이터를 다음과 같이 변환하여 'score.csv'로 저장하시오.\n",
    "* column명을 'math', 'eng', 'science'으로 변경\n",
    "* NaN 값은 0으로 변경\n",
    "* 'sum' 컬럼을 생성하고 각 행의 math, eng, science 합을 계산하여 입력<br>\n",
    "(한글 포함 시 인코딩 문제가 있을 수 있으므로 encoding = \"utf-8\"을 입력 해야함)"
   ]
  },
  {
   "cell_type": "code",
   "execution_count": null,
   "metadata": {
    "collapsed": false
   },
   "outputs": [],
   "source": []
  },
  {
   "cell_type": "markdown",
   "metadata": {},
   "source": [
    "### 예제 3\n",
    "예제 2에서 생성한 score.csv파일을 읽어서 출력해 보시오.<br>\n",
    "(단, 첫번째 컬럼이 index가 되도록 하시오. <br>\n",
    " 별도 인자없이 읽어올 경우 index가 새롭게 추가됨 )\n"
   ]
  },
  {
   "cell_type": "code",
   "execution_count": null,
   "metadata": {
    "collapsed": false,
    "scrolled": true
   },
   "outputs": [],
   "source": []
  },
  {
   "cell_type": "markdown",
   "metadata": {},
   "source": [
    "### 예제 4\n",
    "다음 Json 데이터를 파이썬 객체로 읽어서 GML 값만 출력해 보시오. <br>\n",
    "( GlossDef-GlossSeeAlso-GML )"
   ]
  },
  {
   "cell_type": "code",
   "execution_count": 9,
   "metadata": {
    "collapsed": true
   },
   "outputs": [],
   "source": [
    "# 예제 4\n",
    "json_obj = \"\"\"\n",
    "{\n",
    "    \"ID\": \"SGML\",\n",
    "    \"SortAs\": \"SGML\",\n",
    "    \"GlossTerm\": \"Standard Generalized Markup Language\",\n",
    "    \"Acronym\": \"SGML\",\n",
    "    \"Abbrev\": \"ISO 8879:1986\",\n",
    "    \"GlossDef\": [{\"para\": \"A meta-markup language, used to create markup languages such as DocBook.\"},\n",
    "                 {\"GlossSeeAlso\": [\"GML\", \"XML\"]}]\n",
    "}\n",
    "\"\"\""
   ]
  },
  {
   "cell_type": "code",
   "execution_count": null,
   "metadata": {
    "collapsed": false
   },
   "outputs": [],
   "source": []
  },
  {
   "cell_type": "markdown",
   "metadata": {},
   "source": [
    "### 예제 5\n",
    "http://finance.yahoo.com/q/op?s=AAPL+Options 에서 span 객체의 내용을 모두 출력하시오."
   ]
  },
  {
   "cell_type": "code",
   "execution_count": 10,
   "metadata": {
    "collapsed": true
   },
   "outputs": [],
   "source": [
    "from lxml.html import parse\n",
    "from urllib.request import urlopen"
   ]
  },
  {
   "cell_type": "code",
   "execution_count": null,
   "metadata": {
    "collapsed": false,
    "scrolled": true
   },
   "outputs": [],
   "source": []
  },
  {
   "cell_type": "markdown",
   "metadata": {},
   "source": [
    "### 예제 6\n",
    "다음 xml에서 'INDICATOR_SEQ', 'PERIOD_YEAR', 'PERIOD_MONTH', 'CATEGORY' 4개 필드만 선택하여 출력하시오.<br>\n",
    "(금일 파이썬 강의 자료의 'lxml.objectify 이용해 XML 파싱하기' 참고 및 활용)"
   ]
  },
  {
   "cell_type": "code",
   "execution_count": 11,
   "metadata": {
    "collapsed": false
   },
   "outputs": [
    {
     "name": "stdout",
     "output_type": "stream",
     "text": [
      "Overwriting data/Performance_MNR.xml\n"
     ]
    }
   ],
   "source": [
    "%%writefile data/Performance_MNR.xml\n",
    "<INDICATOR>\n",
    "    <INDICATOR_SEQ>373889</INDICATOR_SEQ>\n",
    "    <PARENT_SEQ></PARENT_SEQ>\n",
    "    <AGENCY_NAME>MEtro-North Railroad</AGENCY_NAME>\n",
    "    <INDICATOR_NAME>Escalator Availability</INDICATOR_NAME>\n",
    "    <DESCRIPTION>Percent of the time that escalators are operational systemwide. The availability rate is based on physical observations performed the morning of regular business days only. This is a new indicator the agency began reporting in 2009.</DESCRIPTION>\n",
    "    <PERIOD_YEAR>2011</PERIOD_YEAR>\n",
    "    <PERIOD_MONTH>12</PERIOD_MONTH>\n",
    "    <CATEGORY>Service Indicators</CATEGORY>\n",
    "    <FREQUENCY>M</FREQUENCY>\n",
    "    <DESIRED_CHANGE>U</DESIRED_CHANGE>\n",
    "    <INDICATOR_UNIT>%</INDICATOR_UNIT>\n",
    "    <DECIMAL_PLACES>1</DECIMAL_PLACES>\n",
    "    <YTD_TARGET>97.00</YTD_TARGET>\n",
    "    <YTD_ACTUAL></YTD_ACTUAL>\n",
    "    <MONTHLY_TARGET>97.00</MONTHLY_TARGET>\n",
    "    <MONTHLY_ACTUAL></MONTHLY_ACTUAL>\n",
    "</INDICATOR>"
   ]
  },
  {
   "cell_type": "code",
   "execution_count": 12,
   "metadata": {
    "collapsed": false
   },
   "outputs": [],
   "source": [
    "from lxml import objectify\n",
    "import urllib"
   ]
  },
  {
   "cell_type": "code",
   "execution_count": null,
   "metadata": {
    "collapsed": false
   },
   "outputs": [],
   "source": []
  },
  {
   "cell_type": "markdown",
   "metadata": {},
   "source": [
    "### 예제 7\n",
    "(sqlite3 연습) subject Table을 만든 후 임시 데이터를 삽입하고 데이터프레임으로 가져오는 과정을 수행하시오.<br>\n",
    "( subject Table에는 math, eng, sci 컬럼이 존재하며 세개 모두 INTEGER 타입 )"
   ]
  },
  {
   "cell_type": "code",
   "execution_count": 13,
   "metadata": {
    "collapsed": false
   },
   "outputs": [],
   "source": [
    "import sqlite3  # 파이썬에서 데이터베이스 이용할 수 있게 해주는 sqlite3를 사용\n",
    "con = sqlite3.connect(':memory:') # 괄호안에는 사용할 db파일을 넣기도하는데 여기서는 메모리에서 사용한다(임시 db)"
   ]
  },
  {
   "cell_type": "markdown",
   "metadata": {},
   "source": [
    "<br><br><br><br><br><br><br><br><br><br><br><br><br><br><br><br><br><br><br><br><br><br><br><br><br><br><br><br><br><br><br><br><br><br>\n",
    "<br><br><br><br><br><br><br><br><br><br><br><br><br>"
   ]
  },
  {
   "cell_type": "code",
   "execution_count": 14,
   "metadata": {
    "collapsed": false
   },
   "outputs": [
    {
     "data": {
      "text/html": [
       "<div>\n",
       "<table border=\"1\" class=\"dataframe\">\n",
       "  <thead>\n",
       "    <tr style=\"text-align: right;\">\n",
       "      <th></th>\n",
       "      <th>one</th>\n",
       "      <th>two</th>\n",
       "      <th>three</th>\n",
       "    </tr>\n",
       "  </thead>\n",
       "  <tbody>\n",
       "    <tr>\n",
       "      <th>0</th>\n",
       "      <td>NaN</td>\n",
       "      <td>2.0</td>\n",
       "      <td>3.0</td>\n",
       "    </tr>\n",
       "    <tr>\n",
       "      <th>1</th>\n",
       "      <td>4.0</td>\n",
       "      <td>NaN</td>\n",
       "      <td>6.0</td>\n",
       "    </tr>\n",
       "    <tr>\n",
       "      <th>2</th>\n",
       "      <td>7.0</td>\n",
       "      <td>8.0</td>\n",
       "      <td>NaN</td>\n",
       "    </tr>\n",
       "  </tbody>\n",
       "</table>\n",
       "</div>"
      ],
      "text/plain": [
       "   one  two  three\n",
       "0  NaN  2.0    3.0\n",
       "1  4.0  NaN    6.0\n",
       "2  7.0  8.0    NaN"
      ]
     },
     "execution_count": 14,
     "metadata": {},
     "output_type": "execute_result"
    }
   ],
   "source": [
    "#### 1번\n",
    "frame = pd.read_csv(\"data/mydata.csv\", sep=\";\", na_values=[1,5,9])\n",
    "frame"
   ]
  },
  {
   "cell_type": "code",
   "execution_count": 15,
   "metadata": {
    "collapsed": false
   },
   "outputs": [],
   "source": [
    "#### 2번\n",
    "frame.columns = ['math', 'eng', 'science']\n",
    "frame[frame.isnull()] = 0\n",
    "frame['합'] = frame.sum(axis=1)\n",
    "frame.to_csv('data/score.csv', encoding = \"utf-8\")"
   ]
  },
  {
   "cell_type": "code",
   "execution_count": 16,
   "metadata": {
    "collapsed": false
   },
   "outputs": [
    {
     "name": "stdout",
     "output_type": "stream",
     "text": [
      "   math  eng  science     합\n",
      "0   0.0  2.0      3.0   5.0\n",
      "1   4.0  0.0      6.0  10.0\n",
      "2   7.0  8.0      0.0  15.0\n"
     ]
    }
   ],
   "source": [
    "print(frame)"
   ]
  },
  {
   "cell_type": "code",
   "execution_count": 17,
   "metadata": {
    "collapsed": false
   },
   "outputs": [
    {
     "data": {
      "text/html": [
       "<div>\n",
       "<table border=\"1\" class=\"dataframe\">\n",
       "  <thead>\n",
       "    <tr style=\"text-align: right;\">\n",
       "      <th></th>\n",
       "      <th>math</th>\n",
       "      <th>eng</th>\n",
       "      <th>science</th>\n",
       "      <th>합</th>\n",
       "    </tr>\n",
       "  </thead>\n",
       "  <tbody>\n",
       "    <tr>\n",
       "      <th>0</th>\n",
       "      <td>0.0</td>\n",
       "      <td>2.0</td>\n",
       "      <td>3.0</td>\n",
       "      <td>5.0</td>\n",
       "    </tr>\n",
       "    <tr>\n",
       "      <th>1</th>\n",
       "      <td>4.0</td>\n",
       "      <td>0.0</td>\n",
       "      <td>6.0</td>\n",
       "      <td>10.0</td>\n",
       "    </tr>\n",
       "    <tr>\n",
       "      <th>2</th>\n",
       "      <td>7.0</td>\n",
       "      <td>8.0</td>\n",
       "      <td>0.0</td>\n",
       "      <td>15.0</td>\n",
       "    </tr>\n",
       "  </tbody>\n",
       "</table>\n",
       "</div>"
      ],
      "text/plain": [
       "   math  eng  science     합\n",
       "0   0.0  2.0      3.0   5.0\n",
       "1   4.0  0.0      6.0  10.0\n",
       "2   7.0  8.0      0.0  15.0"
      ]
     },
     "execution_count": 17,
     "metadata": {},
     "output_type": "execute_result"
    }
   ],
   "source": [
    "#### 3번\n",
    "frame2 = pd.read_csv(\"data/score.csv\", index_col=[0])\n",
    "frame2"
   ]
  },
  {
   "cell_type": "code",
   "execution_count": 18,
   "metadata": {
    "collapsed": false
   },
   "outputs": [
    {
     "name": "stdout",
     "output_type": "stream",
     "text": [
      "GML\n"
     ]
    }
   ],
   "source": [
    "#### 4번\n",
    "result = json.loads(json_obj)\n",
    "print(result['GlossDef'][1]['GlossSeeAlso'][0])"
   ]
  },
  {
   "cell_type": "code",
   "execution_count": 19,
   "metadata": {
    "collapsed": false
   },
   "outputs": [
    {
     "name": "stdout",
     "output_type": "stream",
     "text": [
      "207\n"
     ]
    },
    {
     "data": {
      "text/plain": [
       "['More',\n",
       " '0',\n",
       " 'U.S. Markets closed',\n",
       " 'U.S. Markets closed',\n",
       " '2,457.85',\n",
       " '-18.70 (-0.76%)',\n",
       " '21,753.31',\n",
       " '-234.25 (-1.07%)',\n",
       " 'NasdaqGS - NasdaqGS Delayed Price. Currency in USD',\n",
       " 'Add to watchlist',\n",
       " 'Add to watchlist',\n",
       " '162.08',\n",
       " '-1.97 (-1.20%)',\n",
       " 'At close:  4:00PM EDT',\n",
       " '162.03',\n",
       " '-0.05 (-0.03%)',\n",
       " '-0.05 (-0.03%)',\n",
       " 'After hours:',\n",
       " 'People also watch',\n",
       " 'People also watch',\n",
       " 'Summary',\n",
       " 'Conversations',\n",
       " 'Statistics',\n",
       " 'Profile',\n",
       " 'Financials',\n",
       " 'Options',\n",
       " 'Holders',\n",
       " 'Historical Data',\n",
       " 'Analysts',\n",
       " 'In The Money',\n",
       " 'Show:',\n",
       " 'Show',\n",
       " 'List',\n",
       " 'List',\n",
       " 'Straddle',\n",
       " 'Calls',\n",
       " 'Calls',\n",
       " 'for',\n",
       " 'for',\n",
       " 'September 8, 2017',\n",
       " 'Contract Name',\n",
       " 'Last Trade Date',\n",
       " 'Strike',\n",
       " 'Last Price',\n",
       " 'Bid',\n",
       " 'Ask',\n",
       " 'Change',\n",
       " '% Change',\n",
       " 'Volume',\n",
       " 'Open Interest',\n",
       " 'Implied Volatility',\n",
       " '-3.12',\n",
       " '-7.07%',\n",
       " '+0.98',\n",
       " '+3.26%',\n",
       " '+2.74',\n",
       " '+10.37%',\n",
       " '0.00',\n",
       " '-',\n",
       " '0.00',\n",
       " '-',\n",
       " '0.00',\n",
       " '-',\n",
       " '0.00',\n",
       " '-',\n",
       " '-0.83',\n",
       " '-4.82%',\n",
       " '0.00',\n",
       " '-',\n",
       " '0.00',\n",
       " '-',\n",
       " '0.00',\n",
       " '-',\n",
       " '+0.88',\n",
       " '+5.77%',\n",
       " '+1.51',\n",
       " '+11.08%',\n",
       " '-1.96',\n",
       " '-13.95%',\n",
       " '-2.05',\n",
       " '-17.60%',\n",
       " '-1.94',\n",
       " '-21.30%',\n",
       " '-1.95',\n",
       " '-29.06%',\n",
       " '-1.66',\n",
       " '-37.81%',\n",
       " '-1.23',\n",
       " '-52.34%',\n",
       " '-0.61',\n",
       " '-64.21%',\n",
       " '-0.22',\n",
       " '-68.75%',\n",
       " '-0.09',\n",
       " '-69.23%',\n",
       " '-0.03',\n",
       " '-50.00%',\n",
       " '-0.02',\n",
       " '-50.00%',\n",
       " '-0.01',\n",
       " '-33.33%',\n",
       " '-0.01',\n",
       " '-50.00%',\n",
       " '-0.01',\n",
       " '-50.00%',\n",
       " '0.00',\n",
       " '-',\n",
       " '0.00',\n",
       " '-',\n",
       " '0.00',\n",
       " '-',\n",
       " 'Puts',\n",
       " 'Puts',\n",
       " 'for',\n",
       " 'for',\n",
       " 'September 8, 2017',\n",
       " 'Contract Name',\n",
       " 'Last Trade Date',\n",
       " 'Strike',\n",
       " 'Last Price',\n",
       " 'Bid',\n",
       " 'Ask',\n",
       " 'Change',\n",
       " '% Change',\n",
       " 'Volume',\n",
       " 'Open Interest',\n",
       " 'Implied Volatility',\n",
       " '0.00',\n",
       " '-',\n",
       " '0.00',\n",
       " '-',\n",
       " '0.00',\n",
       " '-',\n",
       " '0.00',\n",
       " '-',\n",
       " '0.00',\n",
       " '-',\n",
       " '0.00',\n",
       " '-',\n",
       " '0.00',\n",
       " '-',\n",
       " '-0.01',\n",
       " '-50.00%',\n",
       " '-0.01',\n",
       " '-50.00%',\n",
       " '+0.01',\n",
       " '+50.00%',\n",
       " '-0.02',\n",
       " '-66.67%',\n",
       " '-0.01',\n",
       " '-33.33%',\n",
       " '-0.02',\n",
       " '-66.67%',\n",
       " '-0.01',\n",
       " '-33.33%',\n",
       " '-0.01',\n",
       " '-33.33%',\n",
       " '0.00',\n",
       " '-',\n",
       " '-0.01',\n",
       " '-25.00%',\n",
       " '0.00',\n",
       " '-',\n",
       " '-0.01',\n",
       " '-14.29%',\n",
       " '+0.03',\n",
       " '+37.50%',\n",
       " '+0.07',\n",
       " '+46.67%',\n",
       " '+0.23',\n",
       " '+74.19%',\n",
       " '+0.68',\n",
       " '+88.31%',\n",
       " '+1.24',\n",
       " '+65.61%',\n",
       " '+1.70',\n",
       " '+45.33%',\n",
       " '+1.96',\n",
       " '+32.40%',\n",
       " '+1.05',\n",
       " '+11.93%',\n",
       " '-0.35',\n",
       " '-2.92%',\n",
       " '+1.50',\n",
       " '+10.53%',\n",
       " '+0.20',\n",
       " '+1.27%',\n",
       " '0.00',\n",
       " '-',\n",
       " '0.00',\n",
       " '-',\n",
       " '',\n",
       " '',\n",
       " '',\n",
       " '',\n",
       " '',\n",
       " '',\n",
       " '',\n",
       " 'Yahoo Small Business',\n",
       " 'Data Disclaimer',\n",
       " 'Help',\n",
       " 'Suggestions',\n",
       " 'Privacy',\n",
       " 'About Our Ads',\n",
       " 'Terms (Updated)',\n",
       " '',\n",
       " '']"
      ]
     },
     "execution_count": 19,
     "metadata": {},
     "output_type": "execute_result"
    }
   ],
   "source": [
    "#### 5번\n",
    "parsed = parse(urlopen('http://finance.yahoo.com/q/op?s=AAPL+Options'))\n",
    "doc = parsed.getroot()\n",
    "links = doc.findall('.//span')\n",
    "print(len(links))\n",
    "lik = [ val.text_content() for val in links ]\n",
    "lik"
   ]
  },
  {
   "cell_type": "code",
   "execution_count": 20,
   "metadata": {
    "collapsed": false
   },
   "outputs": [
    {
     "data": {
      "text/plain": [
       "[{'CATEGORY': 'Service Indicators',\n",
       "  'INDICATOR_SEQ': 373889,\n",
       "  'PERIOD_MONTH': 12,\n",
       "  'PERIOD_YEAR': 2011}]"
      ]
     },
     "execution_count": 20,
     "metadata": {},
     "output_type": "execute_result"
    }
   ],
   "source": [
    "#### 6번\n",
    "path = 'data/Performance_MNR.xml'\n",
    "\n",
    "# objectify를 이용해서 파일 파싱\n",
    "parsed = objectify.parse(open(path))\n",
    "root = parsed.getroot()\n",
    "data = []\n",
    "select_fields = ['INDICATOR_SEQ', 'PERIOD_YEAR',\n",
    "               'PERIOD_MONTH', 'CATEGORY']\n",
    "\n",
    "for elt in root:\n",
    "    el_data = {}\n",
    "    for child in elt.getchildren():\n",
    "        if child.tag in select_fields:\n",
    "            el_data[child.tag] = child.pyval\n",
    "    data.append(el_data)\n",
    "\n",
    "data"
   ]
  },
  {
   "cell_type": "code",
   "execution_count": 21,
   "metadata": {
    "collapsed": false
   },
   "outputs": [
    {
     "data": {
      "text/html": [
       "<div>\n",
       "<table border=\"1\" class=\"dataframe\">\n",
       "  <thead>\n",
       "    <tr style=\"text-align: right;\">\n",
       "      <th></th>\n",
       "      <th>math</th>\n",
       "      <th>eng</th>\n",
       "      <th>sci</th>\n",
       "    </tr>\n",
       "  </thead>\n",
       "  <tbody>\n",
       "    <tr>\n",
       "      <th>0</th>\n",
       "      <td>15</td>\n",
       "      <td>40</td>\n",
       "      <td>20</td>\n",
       "    </tr>\n",
       "    <tr>\n",
       "      <th>1</th>\n",
       "      <td>80</td>\n",
       "      <td>30</td>\n",
       "      <td>100</td>\n",
       "    </tr>\n",
       "    <tr>\n",
       "      <th>2</th>\n",
       "      <td>90</td>\n",
       "      <td>80</td>\n",
       "      <td>70</td>\n",
       "    </tr>\n",
       "  </tbody>\n",
       "</table>\n",
       "</div>"
      ],
      "text/plain": [
       "   math  eng  sci\n",
       "0    15   40   20\n",
       "1    80   30  100\n",
       "2    90   80   70"
      ]
     },
     "execution_count": 21,
     "metadata": {},
     "output_type": "execute_result"
    }
   ],
   "source": [
    "#### 7번\n",
    "query = \"\"\"\n",
    "    CREATE TABLE subject\n",
    "    (math INTEGER,\n",
    "     eng INTEGER,\n",
    "     sci INTEGER\n",
    "    );\n",
    "\"\"\"\n",
    "\n",
    "con.execute(query) #실행할 쿼리문이 괄호안에 들어간다.\n",
    "con.commit()  #트랜잭션 변경내용을 db에 반영\n",
    "\n",
    "data = [(15, 40, 20),\n",
    "       (80, 30, 100),\n",
    "       (90, 80, 70)]\n",
    "\n",
    "stmt = \"INSERT INTO subject VALUES(?, ?, ?)\"\n",
    "\n",
    "con.executemany(stmt, data)\n",
    "con.commit()\n",
    "\n",
    "cursor = con.execute('select * from subject')\n",
    "rows = cursor.fetchall()\n",
    "DataFrame(rows, columns=['math', 'eng', 'sci'])"
   ]
  },
  {
   "cell_type": "code",
   "execution_count": null,
   "metadata": {
    "collapsed": true
   },
   "outputs": [],
   "source": []
  }
 ],
 "metadata": {
  "anaconda-cloud": {},
  "kernelspec": {
   "display_name": "Python 3",
   "language": "python",
   "name": "python3"
  },
  "language_info": {
   "codemirror_mode": {
    "name": "ipython",
    "version": 3
   },
   "file_extension": ".py",
   "mimetype": "text/x-python",
   "name": "python",
   "nbconvert_exporter": "python",
   "pygments_lexer": "ipython3",
   "version": "3.6.0"
  }
 },
 "nbformat": 4,
 "nbformat_minor": 1
}
